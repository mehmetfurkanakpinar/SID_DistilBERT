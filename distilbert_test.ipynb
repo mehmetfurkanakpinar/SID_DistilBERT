{
 "cells": [
  {
   "metadata": {},
   "cell_type": "code",
   "source": [
    "import pandas as pd\n",
    "from transformers import AutoModelForSequenceClassification, AutoTokenizer, Trainer\n",
    "from sklearn.preprocessing import LabelEncoder\n",
    "from sklearn.metrics import confusion_matrix, ConfusionMatrixDisplay\n",
    "import matplotlib.pyplot as plt\n",
    "import numpy as np"
   ],
   "id": "initial_id",
   "outputs": [],
   "execution_count": null
  },
  {
   "metadata": {},
   "cell_type": "code",
   "source": [
    "# Load the trained model and tokenizer from the specified checkpoint\n",
    "checkpoint_dir = \"\"\n",
    "model = AutoModelForSequenceClassification.from_pretrained(checkpoint_dir)\n",
    "tokenizer = AutoTokenizer.from_pretrained(checkpoint_dir)"
   ],
   "id": "9a14b2eb697d7304",
   "outputs": [],
   "execution_count": null
  },
  {
   "metadata": {},
   "cell_type": "code",
   "source": [
    "# Load the test dataset\n",
    "file_path = \"\" \n",
    "test_df = pd.read_excel(file_path, engine='openpyxl')"
   ],
   "id": "46e1b71379b435c1",
   "outputs": [],
   "execution_count": null
  },
  {
   "metadata": {},
   "cell_type": "code",
   "source": [
    "# Encode the labels\n",
    "label_encoder = LabelEncoder()\n",
    "test_df[\"class\"] = label_encoder.fit_transform(test_df[\"class\"])"
   ],
   "id": "48f2bb50234c791a",
   "outputs": [],
   "execution_count": null
  },
  {
   "metadata": {},
   "cell_type": "code",
   "source": [
    "# Convert the test DataFrame to a Dataset object\n",
    "from datasets import Dataset\n",
    "test_df = test_df.dropna(subset=['text'])\n",
    "test_dataset = Dataset.from_pandas(test_df)\n",
    "\n",
    "# Tokenize the test dataset\n",
    "def tokenize_function(examples):\n",
    "    return tokenizer(examples['text'], truncation=True, padding=True)\n",
    "\n",
    "tokenized_test_dataset = test_dataset.map(tokenize_function, batched=True)\n",
    "tokenized_test_dataset = tokenized_test_dataset.remove_columns([\"text\"])\n",
    "tokenized_test_dataset = tokenized_test_dataset.rename_column(\"class\", \"labels\")\n",
    "\n",
    "print(tokenized_test_dataset)"
   ],
   "id": "94cf2ab9056fe9c8",
   "outputs": [],
   "execution_count": null
  },
  {
   "metadata": {},
   "cell_type": "code",
   "source": [
    "# Create a Trainer object for evaluation (no training will be performed)\n",
    "trainer = Trainer(\n",
    "    model=model,\n",
    "    tokenizer=tokenizer\n",
    ")\n",
    "\n",
    "# Evaluate the model on the test set and get predictions\n",
    "predictions, labels, _ = trainer.predict(tokenized_test_dataset)\n",
    "preds = np.argmax(predictions, axis=1)"
   ],
   "id": "6bf9d0eaf98df8ea",
   "outputs": [],
   "execution_count": null
  },
  {
   "metadata": {},
   "cell_type": "code",
   "source": [
    "# Create a confusion matrix\n",
    "cm = confusion_matrix(labels, preds)\n",
    "disp = ConfusionMatrixDisplay(confusion_matrix=cm, display_labels=label_encoder.classes_)\n",
    "\n",
    "# Display the confusion matrix\n",
    "plt.figure(figsize=(10, 7))\n",
    "disp.plot(cmap=plt.cm.Blues, ax=plt.gca())\n",
    "plt.title(\"Confusion Matrix\")\n",
    "plt.savefig(\"\")\n",
    "plt.show()"
   ],
   "id": "1d20d3b7a5eda471",
   "outputs": [],
   "execution_count": null
  },
  {
   "metadata": {},
   "cell_type": "code",
   "source": [
    "from sklearn.metrics import accuracy_score, precision_score, recall_score, f1_score\n",
    "\n",
    "# Accuracy \n",
    "accuracy = accuracy_score(labels, preds)\n",
    "\n",
    "# Precision \n",
    "precision = precision_score(labels, preds)  # default is 'binary' for binary classification\n",
    "\n",
    "# Recall \n",
    "recall = recall_score(labels, preds)  # default is 'binary'\n",
    "\n",
    "# F1-score \n",
    "f1 = f1_score(labels, preds)  # default is 'binary'\n",
    "\n",
    "# Print the results\n",
    "print(f\"Accuracy: {accuracy}\")\n",
    "print(f\"Precision: {precision}\")\n",
    "print(f\"Recall: {recall}\")\n",
    "print(f\"F1 Score: {f1}\")"
   ],
   "id": "1de93323270cb00f",
   "outputs": [],
   "execution_count": null
  },
  {
   "metadata": {},
   "cell_type": "code",
   "source": [
    "from wordcloud import WordCloud, STOPWORDS\n",
    "import matplotlib.pyplot as plt\n",
    "import pandas as pd\n",
    "\n",
    "file_path = \"\" \n",
    "train_df = pd.read_excel(file_path, engine='openpyxl')\n",
    "\n",
    "train_df['text'] = train_df['text'].astype(str)\n",
    "\n",
    "# Filter by 'suicide' label \n",
    "suicide_text = \" \".join(review for review in train_df[train_df['class'] == 'suicide']['text'])\n",
    "custom_stopwords = set(STOPWORDS).union({'filler'})\n",
    "\n",
    "# Word cloud for suicide texts\n",
    "suicide_wordcloud = WordCloud(width=800, height=400, background_color='white',stopwords=custom_stopwords).generate(suicide_text)\n",
    "\n",
    "# Display the word cloud for suicide texts\n",
    "plt.figure(figsize=(10, 5))\n",
    "plt.imshow(suicide_wordcloud, interpolation='bilinear')\n",
    "plt.axis(\"off\")\n",
    "plt.title(\"Word Cloud for Suicide Texts\")\n",
    "plt.show()\n",
    "\n",
    "# A word cloud for 'non-suicide' texts:\n",
    "non_suicide_text = \" \".join(review for review in train_df[train_df['class'] == 'non-suicide']['text'])\n",
    "\n",
    "# Generate the word cloud for non-suicide texts\n",
    "non_suicide_wordcloud = WordCloud(width=800, height=400, background_color='white',stopwords=custom_stopwords).generate(non_suicide_text)\n",
    "\n",
    "# Display the word cloud for non-suicide texts\n",
    "plt.figure(figsize=(10, 5))\n",
    "plt.imshow(non_suicide_wordcloud, interpolation='bilinear')\n",
    "plt.axis(\"off\")\n",
    "plt.title(\"Word Cloud for Non-Suicide Texts\")\n",
    "plt.show()"
   ],
   "id": "ed0d80539e916dd5",
   "outputs": [],
   "execution_count": null
  }
 ],
 "metadata": {
  "kernelspec": {
   "display_name": "Python 3",
   "language": "python",
   "name": "python3"
  },
  "language_info": {
   "codemirror_mode": {
    "name": "ipython",
    "version": 2
   },
   "file_extension": ".py",
   "mimetype": "text/x-python",
   "name": "python",
   "nbconvert_exporter": "python",
   "pygments_lexer": "ipython2",
   "version": "2.7.6"
  }
 },
 "nbformat": 4,
 "nbformat_minor": 5
}
