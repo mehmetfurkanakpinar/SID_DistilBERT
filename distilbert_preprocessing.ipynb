{
 "cells": [
  {
   "metadata": {},
   "cell_type": "code",
   "outputs": [],
   "execution_count": null,
   "source": [
    "import pandas as pd\n",
    "import re\n",
    "\n",
    "def clean_text(text):\n",
    "    # Remove missing values\n",
    "    text = text.dropna()\n",
    "    \n",
    "    # Remove URLs\n",
    "    text = re.sub(r\"http\\S+|www\\S+|https\\S+\", '', text, flags=re.MULTILINE)\n",
    "    \n",
    "    # Remove HTML tags\n",
    "    text = re.sub(r'<.*?>', '', text)\n",
    "    \n",
    "    # Remove email addresses\n",
    "    text = re.sub(r'\\S+@\\S+', '', text)\n",
    "    \n",
    "    # Remove usernames (e.g., @user)\n",
    "    text = re.sub(r'@\\w+', '', text)\n",
    "    \n",
    "    # Remove specified special characters\n",
    "    characters_to_remove = ['ç', '–', 'é', '∂', '¥', 'ü', '™', '~', '∏', '‡', '¢', '´', 'Ì', 'º',\n",
    "                            '‰', 'ë', 'Ç', '¨', 'ì', 'Í', '|', 'Õ', '[', '\\uf8ff', '≤', '⁄',\n",
    "                            '\\xa0', '@', '(', '$', '*', '∞', ';', 'ú', 'Æ', 'ê', '≠', '◊', 'ƒ',\n",
    "                            'Á', '°', '#', '%', ')', '≥', '&', '«', 'Ü', 'Ô', '\\\\', '∫', 'å',\n",
    "                            'É', 'Â', 'ñ', '\\n', 'Ë', 'í', '¬', 'Ø', 'ù', 'Ω', '\\x7f', 'È',\n",
    "                            'Ñ', '}', '®', '√', '{', 'ö', ':', '§', '+', '\\t', 'à', 'Ö', '…',\n",
    "                            'Û', 'æ', '/', '‚', 'á', 'î', 'ó', '_', '—', '∆', '•', 'œ', 'è',\n",
    "                            'ï', 'õ', 'Ó', '’', '≈', '±', '·', '€', 'ã', '„', '¶', '∑', '†',\n",
    "                            'ª', 'Œ', 'Ï', '`', 'û', 'Ÿ', '^', 'µ', 'À', '”', 'Å', 'ø', 'Î',\n",
    "                            'ß', 'Ê', 'Ã', '>', 'ô', 'π', 'â', '“', 'ÿ', '£', 'ä', 'ò', '=',\n",
    "                            'Ä', '©', '-']\n",
    "\n",
    "    # Clean special characters\n",
    "    text = re.sub(f\"[{''.join(re.escape(char) for char in characters_to_remove)}]\", '', text)\n",
    "    \n",
    "    return text"
   ],
   "id": "4a38af86a77faed6"
  },
  {
   "metadata": {},
   "cell_type": "code",
   "outputs": [],
   "execution_count": null,
   "source": [
    "# Load the dataset\n",
    "file_path = 'path-to-dataset'\n",
    "df = pd.read_excel(file_path)"
   ],
   "id": "5a1b242859335bf1"
  },
  {
   "metadata": {},
   "cell_type": "code",
   "outputs": [],
   "execution_count": null,
   "source": [
    "# Apply the cleaning function\n",
    "df['text'] = df['text'].apply(clean_text)\n",
    "\n",
    "# Save the cleaned file\n",
    "output_path = 'path-to-save'\n",
    "df.to_excel(output_path, index=False)\n",
    "\n",
    "print(f\"{len(df)} rows remaining.\")"
   ],
   "id": "8fa75b159f087a8c"
  },
  {
   "metadata": {},
   "cell_type": "code",
   "outputs": [],
   "execution_count": null,
   "source": [
    "import pandas as pd\n",
    "from sklearn.model_selection import train_test_split\n",
    "\n",
    "# Load the cleaned dataset\n",
    "file_path = 'path-to-dataset'\n",
    "df = pd.read_excel(file_path)\n",
    "\n",
    "# Ensure that the dataset is balanced between the two classes\n",
    "df_class_0 = df[df['class'] == 0]\n",
    "df_class_1 = df[df['class'] == 1]\n",
    "\n",
    "# Split each class into train and test sets with a 70/30 ratio\n",
    "train_class_0, test_class_0 = train_test_split(df_class_0, test_size=0.3, random_state=42)\n",
    "train_class_1, test_class_1 = train_test_split(df_class_1, test_size=0.3, random_state=42)\n",
    "\n",
    "# Combine the train and test sets from both classes\n",
    "train_df = pd.concat([train_class_0, train_class_1])\n",
    "test_df = pd.concat([test_class_0, test_class_1])\n",
    "\n",
    "# Shuffle the data\n",
    "train_df = train_df.sample(frac=1, random_state=42).reset_index(drop=True)\n",
    "test_df = test_df.sample(frac=1, random_state=42).reset_index(drop=True)\n",
    "\n",
    "# Save the split datasets\n",
    "train_output_path = 'path-to-save-train_dataset.xlsx'\n",
    "test_output_path = 'path-to-save-test_dataset.xlsx'\n",
    "train_df.to_excel(train_output_path, index=False)\n",
    "test_df.to_excel(test_output_path, index=False)\n",
    "\n",
    "print(f\"Training set size: {len(train_df)} rows\")\n",
    "print(f\"Test set size: {len(test_df)} rows\")"
   ],
   "id": "604794bed8befaf7"
  }
 ],
 "metadata": {
  "kernelspec": {
   "display_name": "Python 3",
   "language": "python",
   "name": "python3"
  },
  "language_info": {
   "codemirror_mode": {
    "name": "ipython",
    "version": 2
   },
   "file_extension": ".py",
   "mimetype": "text/x-python",
   "name": "python",
   "nbconvert_exporter": "python",
   "pygments_lexer": "ipython2",
   "version": "2.7.6"
  }
 },
 "nbformat": 4,
 "nbformat_minor": 5
}
